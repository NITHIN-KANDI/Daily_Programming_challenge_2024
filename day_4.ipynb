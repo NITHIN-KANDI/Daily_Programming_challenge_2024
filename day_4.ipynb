{
 "cells": [
  {
   "cell_type": "code",
   "execution_count": 2,
   "metadata": {},
   "outputs": [
    {
     "name": "stdout",
     "output_type": "stream",
     "text": [
      "arr1: [1, 2, 3, 4]\n",
      "arr2: [5, 6, 7, 8]\n"
     ]
    }
   ],
   "source": [
    "def next_gap(gap):\n",
    "    if gap <= 1:\n",
    "        return 0\n",
    "    return (gap // 2) + (gap % 2)\n",
    "\n",
    "def merge(arr1, arr2):\n",
    "    m = len(arr1)\n",
    "    n = len(arr2)\n",
    "    gap = next_gap(m + n)\n",
    "    \n",
    "    while gap > 0:\n",
    "        i = 0\n",
    "        # Compare elements in the first array\n",
    "        while i + gap < m:\n",
    "            if arr1[i] > arr1[i + gap]:\n",
    "                arr1[i], arr1[i + gap] = arr1[i + gap], arr1[i]\n",
    "            i += 1\n",
    "        \n",
    "        # Compare elements between the two arrays\n",
    "        j = gap - m if gap > m else 0\n",
    "        while i < m and j < n:\n",
    "            if arr1[i] > arr2[j]:\n",
    "                arr1[i], arr2[j] = arr2[j], arr1[i]\n",
    "            i += 1\n",
    "            j += 1\n",
    "        \n",
    "        # Compare elements in the second array\n",
    "        if j < n:\n",
    "            j = 0\n",
    "            while j + gap < n:\n",
    "                if arr2[j] > arr2[j + gap]:\n",
    "                    arr2[j], arr2[j + gap] = arr2[j + gap], arr2[j]\n",
    "                j += 1\n",
    "        \n",
    "        gap = next_gap(gap)\n",
    "\n",
    "# Example usage\n",
    "arr1 = [1, 3, 5, 7]\n",
    "arr2 = [2, 4, 6, 8]\n",
    "merge(arr1, arr2)\n",
    "\n",
    "print(\"arr1:\", arr1)\n",
    "print(\"arr2:\", arr2)\n"
   ]
  }
 ],
 "metadata": {
  "kernelspec": {
   "display_name": "Python 3",
   "language": "python",
   "name": "python3"
  },
  "language_info": {
   "codemirror_mode": {
    "name": "ipython",
    "version": 3
   },
   "file_extension": ".py",
   "mimetype": "text/x-python",
   "name": "python",
   "nbconvert_exporter": "python",
   "pygments_lexer": "ipython3",
   "version": "3.12.5"
  }
 },
 "nbformat": 4,
 "nbformat_minor": 2
}
