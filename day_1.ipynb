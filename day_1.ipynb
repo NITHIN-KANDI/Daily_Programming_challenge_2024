{
 "cells": [
  {
   "cell_type": "code",
   "execution_count": 4,
   "metadata": {},
   "outputs": [],
   "source": [
    "def sorting(a):\n",
    "    low = 0\n",
    "    mid = 0\n",
    "    high = len(a) - 1\n",
    "\n",
    "    while mid <= high:\n",
    "        if a[mid] == 0:\n",
    "            a[low], a[mid] = a[mid], a[low]\n",
    "            low += 1\n",
    "            mid += 1\n",
    "        elif a[mid] == 1:\n",
    "            mid += 1\n",
    "        else: \n",
    "            a[mid], a[high] = a[high], a[mid]\n",
    "            high -= 1\n",
    "\n",
    "    return a\n"
   ]
  },
  {
   "cell_type": "code",
   "execution_count": 5,
   "metadata": {},
   "outputs": [
    {
     "name": "stdout",
     "output_type": "stream",
     "text": [
      "[0, 0, 0, 1, 1, 1, 2, 2]\n"
     ]
    }
   ],
   "source": [
    "a = [0, 1, 2, 0, 1, 2, 0, 1]\n",
    "print(sorting(a))\n"
   ]
  }
 ],
 "metadata": {
  "kernelspec": {
   "display_name": "Python 3",
   "language": "python",
   "name": "python3"
  },
  "language_info": {
   "codemirror_mode": {
    "name": "ipython",
    "version": 3
   },
   "file_extension": ".py",
   "mimetype": "text/x-python",
   "name": "python",
   "nbconvert_exporter": "python",
   "pygments_lexer": "ipython3",
   "version": "3.12.5"
  }
 },
 "nbformat": 4,
 "nbformat_minor": 2
}
