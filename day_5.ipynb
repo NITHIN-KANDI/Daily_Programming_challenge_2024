{
 "cells": [
  {
   "cell_type": "code",
   "execution_count": 2,
   "metadata": {},
   "outputs": [
    {
     "name": "stdout",
     "output_type": "stream",
     "text": [
      "Leaders: [17, 5, 2]\n"
     ]
    }
   ],
   "source": [
    "def find_leaders(arr):\n",
    "    n = len(arr)\n",
    "    leaders = []\n",
    "    max_right = arr[-1]\n",
    "    leaders.append(max_right)\n",
    "    \n",
    "    for i in range(n - 2, -1, -1):\n",
    "        if arr[i] > max_right:\n",
    "            max_right = arr[i]\n",
    "            leaders.append(max_right)\n",
    "    \n",
    "    return leaders[::-1]\n",
    "\n",
    "# Example usage\n",
    "arr = [16, 17, 4, 3, 5, 2]\n",
    "leaders = find_leaders(arr)\n",
    "print(\"Leaders:\", leaders)\n"
   ]
  }
 ],
 "metadata": {
  "kernelspec": {
   "display_name": "Python 3",
   "language": "python",
   "name": "python3"
  },
  "language_info": {
   "codemirror_mode": {
    "name": "ipython",
    "version": 3
   },
   "file_extension": ".py",
   "mimetype": "text/x-python",
   "name": "python",
   "nbconvert_exporter": "python",
   "pygments_lexer": "ipython3",
   "version": "3.12.5"
  }
 },
 "nbformat": 4,
 "nbformat_minor": 2
}
