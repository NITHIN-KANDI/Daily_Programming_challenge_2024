{
 "cells": [
  {
   "cell_type": "code",
   "execution_count": 1,
   "metadata": {},
   "outputs": [],
   "source": [
    "def findDuplicate(arr):\n",
    "    \n",
    "    slow = arr[0]\n",
    "    fast = arr[0]\n",
    "    \n",
    " \n",
    "    while True:\n",
    "        slow = arr[slow]\n",
    "        fast = arr[arr[fast]]\n",
    "        if slow == fast:\n",
    "            break\n",
    "    \n",
    "\n",
    "    slow = arr[0]\n",
    "    while slow != fast:\n",
    "        slow = arr[slow]\n",
    "        fast = arr[fast]\n",
    "    \n",
    "    return slow\n",
    "\n",
    "\n"
   ]
  },
  {
   "cell_type": "code",
   "execution_count": 2,
   "metadata": {},
   "outputs": [
    {
     "name": "stdout",
     "output_type": "stream",
     "text": [
      "3\n"
     ]
    }
   ],
   "source": [
    "\n",
    "arr = [3, 1, 3, 4, 2]\n",
    "print(findDuplicate(arr))  "
   ]
  }
 ],
 "metadata": {
  "kernelspec": {
   "display_name": "Python 3",
   "language": "python",
   "name": "python3"
  },
  "language_info": {
   "codemirror_mode": {
    "name": "ipython",
    "version": 3
   },
   "file_extension": ".py",
   "mimetype": "text/x-python",
   "name": "python",
   "nbconvert_exporter": "python",
   "pygments_lexer": "ipython3",
   "version": "3.12.5"
  }
 },
 "nbformat": 4,
 "nbformat_minor": 2
}
