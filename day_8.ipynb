{
 "cells": [
  {
   "cell_type": "code",
   "execution_count": 1,
   "metadata": {},
   "outputs": [
    {
     "name": "stdout",
     "output_type": "stream",
     "text": [
      "blue is sky the\n"
     ]
    }
   ],
   "source": [
    "def reverseWords(s: str) -> str:\n",
    "    result = []\n",
    "    word = []\n",
    "    i = 0\n",
    "    n = len(s)\n",
    "    \n",
    "    while i < n:\n",
    "        while i < n and s[i] == ' ':\n",
    "            i += 1\n",
    "        word = []\n",
    "        while i < n and s[i] != ' ':\n",
    "            word.append(s[i])\n",
    "            i += 1\n",
    "        if word:\n",
    "            result.insert(0, ''.join(word))\n",
    "    \n",
    "    return ' '.join(result)\n",
    "\n",
    "s = \"the sky is blue\"\n",
    "print(reverseWords(s))  \n"
   ]
  }
 ],
 "metadata": {
  "kernelspec": {
   "display_name": "Python 3",
   "language": "python",
   "name": "python3"
  },
  "language_info": {
   "codemirror_mode": {
    "name": "ipython",
    "version": 3
   },
   "file_extension": ".py",
   "mimetype": "text/x-python",
   "name": "python",
   "nbconvert_exporter": "python",
   "pygments_lexer": "ipython3",
   "version": "3.12.5"
  }
 },
 "nbformat": 4,
 "nbformat_minor": 2
}
