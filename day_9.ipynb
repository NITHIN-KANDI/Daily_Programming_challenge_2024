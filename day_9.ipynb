{
 "cells": [
  {
   "cell_type": "code",
   "execution_count": 2,
   "metadata": {},
   "outputs": [
    {
     "name": "stdout",
     "output_type": "stream",
     "text": [
      "fl\n"
     ]
    }
   ],
   "source": [
    "def longestCommonPrefix(strs) -> str:\n",
    "    if not strs:\n",
    "        return \"\"\n",
    "    \n",
    "    prefix = strs[0]\n",
    "    \n",
    "    for s in strs[1:]:\n",
    "        i = 0\n",
    "        while i < len(prefix) and i < len(s) and prefix[i] == s[i]:\n",
    "            i += 1\n",
    "        prefix = prefix[:i]\n",
    "        \n",
    "        if not prefix:\n",
    "            return \"\"\n",
    "    \n",
    "    return prefix\n",
    "\n",
    "# Example usage\n",
    "strs = [\"flower\", \"flow\", \"flight\"]\n",
    "print(longestCommonPrefix(strs)) \n"
   ]
  }
 ],
 "metadata": {
  "kernelspec": {
   "display_name": "Python 3",
   "language": "python",
   "name": "python3"
  },
  "language_info": {
   "codemirror_mode": {
    "name": "ipython",
    "version": 3
   },
   "file_extension": ".py",
   "mimetype": "text/x-python",
   "name": "python",
   "nbconvert_exporter": "python",
   "pygments_lexer": "ipython3",
   "version": "3.12.5"
  }
 },
 "nbformat": 4,
 "nbformat_minor": 2
}
