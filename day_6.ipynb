{
 "cells": [
  {
   "cell_type": "code",
   "execution_count": 1,
   "metadata": {},
   "outputs": [
    {
     "name": "stdout",
     "output_type": "stream",
     "text": [
      "[(0, 2), (2, 3)]\n"
     ]
    }
   ],
   "source": [
    "def find_zero_sum_subarrays(arr):\n",
    "    n = len(arr)\n",
    "    sum_map = {}\n",
    "    result = []\n",
    "    curr_sum = 0\n",
    "\n",
    "    for i in range(n):\n",
    "        curr_sum += arr[i]\n",
    "        if curr_sum == 0:\n",
    "            result.append((0, i))\n",
    "        if curr_sum in sum_map:\n",
    "            for start in sum_map[curr_sum]:\n",
    "                result.append((start + 1, i))\n",
    "        if curr_sum in sum_map:\n",
    "            sum_map[curr_sum].append(i)\n",
    "        else:\n",
    "            sum_map[curr_sum] = [i]\n",
    "\n",
    "    return result\n",
    "\n",
    "arr = [1, 2, -3, 3, -1, 2]\n",
    "print(find_zero_sum_subarrays(arr))\n"
   ]
  }
 ],
 "metadata": {
  "kernelspec": {
   "display_name": "Python 3",
   "language": "python",
   "name": "python3"
  },
  "language_info": {
   "codemirror_mode": {
    "name": "ipython",
    "version": 3
   },
   "file_extension": ".py",
   "mimetype": "text/x-python",
   "name": "python",
   "nbconvert_exporter": "python",
   "pygments_lexer": "ipython3",
   "version": "3.12.5"
  }
 },
 "nbformat": 4,
 "nbformat_minor": 2
}
